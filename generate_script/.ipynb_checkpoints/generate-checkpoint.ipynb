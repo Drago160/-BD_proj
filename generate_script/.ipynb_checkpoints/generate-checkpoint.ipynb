{
 "cells": [
  {
   "cell_type": "code",
   "execution_count": 149,
   "id": "e2033e5c",
   "metadata": {},
   "outputs": [],
   "source": [
    "import names\n",
    "import random"
   ]
  },
  {
   "cell_type": "code",
   "execution_count": 150,
   "id": "b0aced6b",
   "metadata": {},
   "outputs": [],
   "source": [
    "class DateGen:\n",
    "    def __init__(self, year_range):\n",
    "        self.year_range = year_range\n",
    "    def gen_full(self):\n",
    "        month = self.__gen_month()\n",
    "        year = self.__gen_year()\n",
    "        day = -1\n",
    "        if (year % 4 == 0):\n",
    "            year -= 1\n",
    "        if (month == 2):\n",
    "            day = random.randint(1, 29)\n",
    "        else:\n",
    "            day = random.randint(1, 30)\n",
    "        return f'{year}-{month}-{day}'\n",
    "    def __gen_month(self):\n",
    "        return random.randint(1, 12)\n",
    "    def __gen_year(self):\n",
    "        return random.randint(self.year_range[0], self.year_range[1])"
   ]
  },
  {
   "cell_type": "code",
   "execution_count": 231,
   "id": "80d5d619",
   "metadata": {},
   "outputs": [],
   "source": [
    "class StandartGenerator:\n",
    "    def __init__(self):\n",
    "        self.countries = ['UK', 'Italy', 'Russia', 'Ukraine', 'Scotland']\n",
    "        self.id = 0\n",
    "    def gen_id(self):\n",
    "        self.id += 1\n",
    "        return self.id - 1\n",
    "    def gen_fname(self):\n",
    "        return names.get_first_name()\n",
    "    def gen_sname(self):\n",
    "        return names.get_last_name()\n",
    "    def gen_country(self):\n",
    "        return self.countries[random.randint(0, len(self.countries)-1)]\n",
    "        \n",
    "        "
   ]
  },
  {
   "cell_type": "code",
   "execution_count": 299,
   "id": "106f3dee",
   "metadata": {},
   "outputs": [],
   "source": [
    "class Inserter:\n",
    "    def __init__(self, table_characteristic):\n",
    "        self.table_name = table_characteristic[0]\n",
    "        self.col_names = table_characteristic[1]\n",
    "    def make_request(self, params : list):\n",
    "        print('insert')\n",
    "        print(f'into {self.table_name}')\n",
    "        print(str('     (') + ', '.join(self.col_names) + str(')'))\n",
    "        print('values')\n",
    "        print(f'({str(params)[1:-2]})')"
   ]
  },
  {
   "cell_type": "code",
   "execution_count": 300,
   "id": "e4f9011c",
   "metadata": {},
   "outputs": [],
   "source": [
    "class PlayerTable:\n",
    "    def __init__(self, table_characteristic):\n",
    "        self.inserter = Inserter(table_characteristic)\n",
    "        self.count = 0\n",
    "        self.players = list()\n",
    "    def insert(self, new_player):\n",
    "        self.players.insert(len(self.players), new_player)\n",
    "    def clean(self):\n",
    "        self.players = list()\n",
    "    def make_requests(self):\n",
    "        for item in self.players:\n",
    "            self.inserter.make_request(item)\n",
    "        print()\n",
    "        print()\n",
    "        print()\n",
    "        \n",
    "player_table = ('player', ('id', 'country', 'firstname', 'surname', 'birthdate', 'begindate'))\n",
    "players = PlayerTable(player_table)"
   ]
  },
  {
   "cell_type": "code",
   "execution_count": 301,
   "id": "8fde5516",
   "metadata": {},
   "outputs": [],
   "source": [
    "class PlayerBuilder:\n",
    "    def __init__(self):\n",
    "        self.birth_date_gen = DateGen([1980, 2000])\n",
    "        self.begin_date_gen = DateGen([2010, 2023])\n",
    "        self.standart_gen = StandartGenerator()\n",
    "    def gen_player(self):\n",
    "        player = list()\n",
    "        player.insert(len(player), self.standart_gen.gen_id())\n",
    "        player.insert(len(player), self.standart_gen.gen_country())\n",
    "        player.insert(len(player), self.standart_gen.gen_fname())\n",
    "        player.insert(len(player), self.standart_gen.gen_sname())\n",
    "        player.insert(len(player), self.birth_date_gen.gen_full())\n",
    "        player.insert(len(player), self.begin_date_gen.gen_full())\n",
    "        players.insert(player)"
   ]
  },
  {
   "cell_type": "code",
   "execution_count": 302,
   "id": "9718b02b",
   "metadata": {},
   "outputs": [],
   "source": [
    "coach_table = ('coach', ('id', 'firstname', 'surname', 'date'))\n",
    "b = PlayerBuilder()"
   ]
  },
  {
   "cell_type": "code",
   "execution_count": 309,
   "id": "782e6dd2",
   "metadata": {},
   "outputs": [],
   "source": [
    "b.gen_player()\n"
   ]
  },
  {
   "cell_type": "code",
   "execution_count": 310,
   "id": "7aadd941",
   "metadata": {},
   "outputs": [
    {
     "name": "stdout",
     "output_type": "stream",
     "text": [
      "insert\n",
      "into player\n",
      "     (id, country, firstname, surname, birthdate, begindate)\n",
      "values\n",
      "(0, 'Russia', 'Nancy', 'Hawkins', '1998-3-27', '2018-12-20)\n",
      "insert\n",
      "into player\n",
      "     (id, country, firstname, surname, birthdate, begindate)\n",
      "values\n",
      "(1, 'Scotland', 'Dorothy', 'Wisman', '1991-2-17', '2021-5-4)\n",
      "insert\n",
      "into player\n",
      "     (id, country, firstname, surname, birthdate, begindate)\n",
      "values\n",
      "(2, 'Italy', 'Teresa', 'Vasher', '1985-10-19', '2010-9-29)\n",
      "insert\n",
      "into player\n",
      "     (id, country, firstname, surname, birthdate, begindate)\n",
      "values\n",
      "(3, 'Russia', 'Catherine', 'Elhard', '1990-3-28', '2021-5-5)\n",
      "insert\n",
      "into player\n",
      "     (id, country, firstname, surname, birthdate, begindate)\n",
      "values\n",
      "(4, 'UK', 'Jared', 'Langdon', '1991-2-17', '2014-2-16)\n",
      "insert\n",
      "into player\n",
      "     (id, country, firstname, surname, birthdate, begindate)\n",
      "values\n",
      "(5, 'Italy', 'Wesley', 'Ferguson', '1997-12-23', '2015-7-8)\n",
      "\n"
     ]
    }
   ],
   "source": [
    "players.make_requests()"
   ]
  },
  {
   "cell_type": "code",
   "execution_count": null,
   "id": "38c7f93d",
   "metadata": {},
   "outputs": [],
   "source": []
  }
 ],
 "metadata": {
  "kernelspec": {
   "display_name": "Python 3 (ipykernel)",
   "language": "python",
   "name": "python3"
  },
  "language_info": {
   "codemirror_mode": {
    "name": "ipython",
    "version": 3
   },
   "file_extension": ".py",
   "mimetype": "text/x-python",
   "name": "python",
   "nbconvert_exporter": "python",
   "pygments_lexer": "ipython3",
   "version": "3.10.10"
  }
 },
 "nbformat": 4,
 "nbformat_minor": 5
}
